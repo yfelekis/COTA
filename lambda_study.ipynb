{
 "cells": [
  {
   "cell_type": "code",
   "execution_count": 1,
   "id": "5db701d3",
   "metadata": {},
   "outputs": [],
   "source": [
    "import itertools\n",
    "import random\n",
    "import numpy as np\n",
    "import pandas as pd\n",
    "import seaborn as sns\n",
    "import cvxpy as cp\n",
    "from tqdm import tqdm\n",
    "\n",
    "from scipy.spatial import distance\n",
    "from cvxpy.error import SolverError\n",
    "from cvxpy import ECOS, SCS\n",
    "import seaborn as sns\n",
    "import ot\n",
    "from pgmpy import inference\n",
    "import matplotlib.pyplot as plt\n",
    "from scipy.stats import wasserstein_distance\n",
    "\n",
    "import scipy.optimize as optimize\n",
    "from scipy.spatial.distance import cdist\n",
    "from src.examples import smokingmodels as sm\n",
    "from scipy.spatial.distance import squareform,pdist\n",
    "from scipy.stats import wasserstein_distance\n",
    "\n",
    "from scipy.optimize import linprog\n",
    "from scipy import stats\n",
    "from IPython.utils import io\n",
    "import warnings\n",
    "\n",
    "import joblib\n",
    "import modularized_utils as ut\n",
    "import abstraction_metrics as ams\n",
    "import matplotlib.pylab as pl\n",
    "import evaluation as eva\n",
    "\n",
    "import get_results\n",
    "import params\n",
    "\n",
    "np.random.seed(0)\n",
    "\n",
    "warnings.filterwarnings(action='ignore')\n",
    "np.set_printoptions(precision=4,suppress=True)"
   ]
  },
  {
   "cell_type": "code",
   "execution_count": 2,
   "id": "8a2e3a3a",
   "metadata": {},
   "outputs": [],
   "source": [
    "def leave_one_out(pairs, dropped_pair, experiment, mode):\n",
    "    \n",
    "    omega = {}\n",
    "    for pair in pairs:\n",
    "        omega[pair.iota_base] = pair.iota_abst\n",
    "    \n",
    "    hold_pairs = pairs.copy()\n",
    "   \n",
    "    if dropped_pair != None:\n",
    "        hold_pairs.remove(dropped_pair)\n",
    "        hold_omega  = ut.drop1omega(omega, dropped_pair.iota_base)\n",
    "        \n",
    "    else:\n",
    "        hold_omega = omega\n",
    "        \n",
    "    I_relevant  = list(hold_omega.keys())\n",
    "\n",
    "    struc, tree = ut.build_poset(I_relevant)\n",
    "    chains      = ut.to_chains(hold_pairs, struc)\n",
    "    \n",
    "    args   = [hold_pairs, [chains], params.lmbdas[experiment]]\n",
    "    \n",
    "    get_results.results(mode, args, experiment, dropped_pair)\n",
    "    \n",
    "    looo_results = ut.load_results(mode, experiment, dropped_pair)\n",
    "    \n",
    "    return looo_results"
   ]
  },
  {
   "cell_type": "code",
   "execution_count": 3,
   "id": "5fcd29f3",
   "metadata": {
    "scrolled": false
   },
   "outputs": [
    {
     "name": "stderr",
     "output_type": "stream",
     "text": [
      "  5%|██▏                                         | 1/20 [00:02<00:49,  2.59s/it]"
     ]
    },
    {
     "name": "stdout",
     "output_type": "stream",
     "text": [
      "\n"
     ]
    },
    {
     "name": "stderr",
     "output_type": "stream",
     "text": [
      "\r",
      " 10%|████▍                                       | 2/20 [00:05<00:46,  2.59s/it]"
     ]
    },
    {
     "name": "stdout",
     "output_type": "stream",
     "text": [
      "\n"
     ]
    },
    {
     "name": "stderr",
     "output_type": "stream",
     "text": [
      "\r",
      " 15%|██████▌                                     | 3/20 [00:07<00:44,  2.59s/it]"
     ]
    },
    {
     "name": "stdout",
     "output_type": "stream",
     "text": [
      "\n"
     ]
    },
    {
     "name": "stderr",
     "output_type": "stream",
     "text": [
      "\r",
      " 20%|████████▊                                   | 4/20 [00:10<00:41,  2.58s/it]"
     ]
    },
    {
     "name": "stdout",
     "output_type": "stream",
     "text": [
      "\n"
     ]
    },
    {
     "name": "stderr",
     "output_type": "stream",
     "text": [
      "\r",
      " 25%|███████████                                 | 5/20 [00:12<00:38,  2.57s/it]"
     ]
    },
    {
     "name": "stdout",
     "output_type": "stream",
     "text": [
      "\n"
     ]
    },
    {
     "name": "stderr",
     "output_type": "stream",
     "text": [
      "\r",
      " 30%|█████████████▏                              | 6/20 [00:15<00:36,  2.59s/it]"
     ]
    },
    {
     "name": "stdout",
     "output_type": "stream",
     "text": [
      "\n"
     ]
    },
    {
     "name": "stderr",
     "output_type": "stream",
     "text": [
      "\r",
      " 35%|███████████████▍                            | 7/20 [00:18<00:33,  2.61s/it]"
     ]
    },
    {
     "name": "stdout",
     "output_type": "stream",
     "text": [
      "\n"
     ]
    },
    {
     "name": "stderr",
     "output_type": "stream",
     "text": [
      "\r",
      " 40%|█████████████████▌                          | 8/20 [00:20<00:31,  2.62s/it]"
     ]
    },
    {
     "name": "stdout",
     "output_type": "stream",
     "text": [
      "\n"
     ]
    },
    {
     "name": "stderr",
     "output_type": "stream",
     "text": [
      "\r",
      " 45%|███████████████████▊                        | 9/20 [00:23<00:29,  2.64s/it]"
     ]
    },
    {
     "name": "stdout",
     "output_type": "stream",
     "text": [
      "\n"
     ]
    },
    {
     "name": "stderr",
     "output_type": "stream",
     "text": [
      "\r",
      " 50%|█████████████████████▌                     | 10/20 [00:26<00:26,  2.62s/it]"
     ]
    },
    {
     "name": "stdout",
     "output_type": "stream",
     "text": [
      "\n"
     ]
    },
    {
     "name": "stderr",
     "output_type": "stream",
     "text": [
      "\r",
      " 55%|███████████████████████▋                   | 11/20 [00:28<00:23,  2.63s/it]"
     ]
    },
    {
     "name": "stdout",
     "output_type": "stream",
     "text": [
      "\n"
     ]
    },
    {
     "name": "stderr",
     "output_type": "stream",
     "text": [
      "\r",
      " 60%|█████████████████████████▊                 | 12/20 [00:31<00:21,  2.63s/it]"
     ]
    },
    {
     "name": "stdout",
     "output_type": "stream",
     "text": [
      "\n"
     ]
    },
    {
     "name": "stderr",
     "output_type": "stream",
     "text": [
      "\r",
      " 65%|███████████████████████████▉               | 13/20 [00:33<00:18,  2.62s/it]"
     ]
    },
    {
     "name": "stdout",
     "output_type": "stream",
     "text": [
      "\n"
     ]
    },
    {
     "name": "stderr",
     "output_type": "stream",
     "text": [
      "\r",
      " 70%|██████████████████████████████             | 14/20 [00:36<00:15,  2.59s/it]"
     ]
    },
    {
     "name": "stdout",
     "output_type": "stream",
     "text": [
      "\n"
     ]
    },
    {
     "name": "stderr",
     "output_type": "stream",
     "text": [
      "\r",
      " 75%|████████████████████████████████▎          | 15/20 [00:39<00:12,  2.58s/it]"
     ]
    },
    {
     "name": "stdout",
     "output_type": "stream",
     "text": [
      "\n"
     ]
    },
    {
     "name": "stderr",
     "output_type": "stream",
     "text": [
      "\r",
      " 80%|██████████████████████████████████▍        | 16/20 [00:41<00:10,  2.59s/it]"
     ]
    },
    {
     "name": "stdout",
     "output_type": "stream",
     "text": [
      "\n"
     ]
    },
    {
     "name": "stderr",
     "output_type": "stream",
     "text": [
      "\r",
      " 85%|████████████████████████████████████▌      | 17/20 [00:44<00:07,  2.59s/it]"
     ]
    },
    {
     "name": "stdout",
     "output_type": "stream",
     "text": [
      "\n"
     ]
    },
    {
     "name": "stderr",
     "output_type": "stream",
     "text": [
      "\r",
      " 90%|██████████████████████████████████████▋    | 18/20 [00:46<00:05,  2.58s/it]"
     ]
    },
    {
     "name": "stdout",
     "output_type": "stream",
     "text": [
      "\n"
     ]
    },
    {
     "name": "stderr",
     "output_type": "stream",
     "text": [
      "\r",
      " 95%|████████████████████████████████████████▊  | 19/20 [00:49<00:02,  2.59s/it]"
     ]
    },
    {
     "name": "stdout",
     "output_type": "stream",
     "text": [
      "\n"
     ]
    },
    {
     "name": "stderr",
     "output_type": "stream",
     "text": [
      "100%|███████████████████████████████████████████| 20/20 [00:52<00:00,  2.60s/it]"
     ]
    },
    {
     "name": "stdout",
     "output_type": "stream",
     "text": [
      "\n"
     ]
    },
    {
     "name": "stderr",
     "output_type": "stream",
     "text": [
      "\n"
     ]
    }
   ],
   "source": [
    "mode  = 'cota'\n",
    "exp   = params.experiments[1]\n",
    "pairs = ut.load_pairs(exp)\n",
    "\n",
    "\n",
    "looo_results = []\n",
    "\n",
    "for n in tqdm(range(len(pairs))):\n",
    "    \n",
    "    results = {}\n",
    "    for i, pair in enumerate(pairs[n]):\n",
    "        \n",
    "        if pair.iota_base.intervention != {None: None}:\n",
    "            dropped_pair = pair\n",
    "        else:\n",
    "            dropped_pair = None\n",
    "            \n",
    "        results[dropped_pair] = leave_one_out(pairs[n], dropped_pair, exp, mode)\n",
    "        \n",
    "    looo_results.append(results)\n",
    "\n",
    "    print( )"
   ]
  },
  {
   "cell_type": "code",
   "execution_count": 4,
   "id": "95c3b1b4",
   "metadata": {},
   "outputs": [],
   "source": [
    "n_sims    = len(looo_results)\n",
    "lambdas   = list(looo_results[0][None]['cota'][0].keys())\n",
    "\n",
    "metrics   = list(looo_results[0][None]['cota'][0][lambdas[0]])\n",
    "mappings  = list(looo_results[0][None]['cota'][0][lambdas[0]][metrics[0]])\n",
    "averaging = list(looo_results[0][None]['cota'][0][lambdas[0]][metrics[0]][mappings[0]])\n",
    "costs     = list(looo_results[0][None]['cota'][0][lambdas[0]][metrics[0]][mappings[0]][averaging[0]])\n",
    "\n",
    "len_sets  = len(metrics)*len(mappings)*len(averaging)*len(costs)\n",
    "\n",
    "strings = []\n",
    "for metric in metrics:\n",
    "    for mapping in mappings:\n",
    "        for average in averaging:\n",
    "            for cost in costs:\n",
    "                strings.append('{0}-{1}-{2}-{3}'.format(metric,mapping,average,cost))\n",
    "\n",
    "# Make the results keys same with the pairs-to-evaluate                \n",
    "for n in range(n_sims):    \n",
    "    looo_results[n] = dict(zip(pairs[n], looo_results[n].values()))"
   ]
  },
  {
   "cell_type": "code",
   "execution_count": 5,
   "id": "418ca158",
   "metadata": {},
   "outputs": [],
   "source": [
    "equiv = {}\n",
    "equiv['fro-stochastic-avg-Omega']    = 'D = FRO, C = ω'\n",
    "equiv['fro-stochastic-avg-Hamming']  = 'D = FRO, C = H'\n",
    "equiv['fro-stochastic-wavg-Omega']   = 'fro-ω'\n",
    "equiv['fro-stochastic-wavg-Hamming'] = 'fro-H'\n",
    "equiv['jsd-stochastic-avg-Omega']    = 'D = JSD, C = ω'\n",
    "equiv['jsd-stochastic-avg-Hamming']  = 'D = JSD, C = H'\n",
    "equiv['jsd-stochastic-wavg-Omega']   = 'jsd-ω'\n",
    "equiv['jsd-stochastic-wavg-Hamming'] = 'jsd-H'"
   ]
  },
  {
   "cell_type": "code",
   "execution_count": 6,
   "id": "8bb25508",
   "metadata": {},
   "outputs": [],
   "source": [
    "def averages(results, lambdas):\n",
    "    \n",
    "    results_m, results_s = {}, {}\n",
    "    for k, res_lambda in enumerate(results):\n",
    "        res_mean = np.mean(res_lambda,axis = 1)\n",
    "        res_std  = np.std(res_lambda, axis = 1)\n",
    "\n",
    "        results_m[lambdas[k]] = res_mean\n",
    "        results_s[lambdas[k]] = res_std\n",
    "    \n",
    "    return results_m, results_s\n",
    "\n",
    "def create_setting(results_lambdas, lambdas, setting):\n",
    "    \n",
    "    means, stds = averages(results_lambdas, lambdas)\n",
    "    \n",
    "    ae_mean, ae_std = {}, {}\n",
    "    for key in list(means.keys()):\n",
    "        ae_mean[key] = dict(zip(strings, means[key]))\n",
    "        ae_std[key]  = dict(zip(strings, stds[key]))\n",
    "        \n",
    "    if setting == 'all':\n",
    "        return ae_mean, ae_std\n",
    "    else:\n",
    "        mean_dict, std_dict = {}, {}\n",
    "        for key in list(means.keys()):\n",
    "            mean_dict[key] = select_setting(ae_mean[key], setting)\n",
    "            std_dict[key]  = select_setting(ae_std[key], setting)\n",
    "    \n",
    "        return mean_dict, std_dict\n",
    "\n",
    "def select_setting(data_dict, keywords):\n",
    "    \n",
    "    filtered_dict = {}\n",
    "    for key, value in data_dict.items():\n",
    "        key_parts = key.split('-')\n",
    "        if all(keyword in key_parts for keyword in keywords):\n",
    "            filtered_dict[key] = value\n",
    "            \n",
    "    return filtered_dict"
   ]
  },
  {
   "cell_type": "code",
   "execution_count": 7,
   "id": "abc6f1e9",
   "metadata": {},
   "outputs": [],
   "source": [
    "def plot_setting(results_m, results_s, setting, show_error=True):\n",
    "    lambdas = list(results_m.keys())\n",
    "\n",
    "    palette = sns.color_palette(\"husl\", n_colors=len(results_m[lambdas[0]]))\n",
    "\n",
    "    plt.figure(figsize=(8.5, 6))\n",
    "\n",
    "    for i in range(len(results_m[lambdas[0]])):\n",
    "        y = [list(results_m[l].values())[i] for l in lambdas]\n",
    "        x = lambdas\n",
    "        error = [list(results_s[l].values())[i] for l in lambdas]\n",
    "\n",
    "        if show_error:\n",
    "            label = equiv[list(results_s[lambdas[0]].keys())[i]]\n",
    "            color = palette[i]\n",
    "\n",
    "            # Plot the line\n",
    "            sns.lineplot(x=x, y=y, marker='o', label=label, alpha=0.7, color=color)\n",
    "\n",
    "            # Fill the area between the upper and lower bounds of the error bars\n",
    "            plt.fill_between(x, [y_i - e_i for y_i, e_i in zip(y, error)], [y_i + e_i for y_i, e_i in zip(y, error)], color=color, alpha=0.2)\n",
    "        else:\n",
    "            label = list(results_s[lambdas[0]].keys())[i]\n",
    "\n",
    "            sns.lineplot(x=x, y=y, marker='o', label=label, alpha=0.7, color=palette[i])\n",
    "\n",
    "    plt.xlabel('λ', fontsize=22)\n",
    "    plt.ylabel('e(τ)', fontsize=22)\n",
    "    plt.legend(loc='upper right', ncol=1, borderaxespad=1)\n",
    "    plt.grid(True, linestyle='--', alpha=0.5)\n",
    "    plt.tight_layout()\n",
    "    plt.title('{} for {}'.format(exp, setting))\n",
    "    plt.xticks(fontsize=14)\n",
    "    plt.yticks(fontsize=14)\n",
    "    plt.show()\n",
    "\n",
    "    return\n"
   ]
  },
  {
   "cell_type": "code",
   "execution_count": 8,
   "id": "9acba443",
   "metadata": {},
   "outputs": [],
   "source": [
    "def plot_setting1(results_m, results_s, setting, show_error = True):\n",
    "    \n",
    "    lambdas = list(results_m.keys())\n",
    "\n",
    "    fig, ax = plt.subplots(figsize=(8.5, 6))\n",
    "\n",
    "    for i in range(len(results_m[lambdas[0]])):\n",
    "        y = [list(results_m[l].values())[i] for l in lambdas]\n",
    "        x = lambdas\n",
    "        error = [list(results_s[l].values())[i] for l in lambdas]\n",
    "        \n",
    "        if show_error == True:\n",
    "            plt.errorbar(x, y, yerr=error, fmt='o-', label=equiv[list(results_s[lambdas[0]].keys())[i]], alpha=0.7)\n",
    "        else:\n",
    "            plt.errorbar(x, y, fmt='o-', label=list(results_s[lambdas[0]].keys())[i], alpha=0.7)\n",
    "\n",
    "    \n",
    "    plt.xlabel('λ', fontsize=22)\n",
    "    plt.ylabel('e(τ)', fontsize=22)\n",
    "    plt.legend(loc='upper right', ncol=1, borderaxespad=1)\n",
    "\n",
    "    plt.grid(True, linestyle='--', alpha=0.5)\n",
    "    plt.tight_layout()\n",
    "    plt.title('{} for {}'.format(exp, setting))\n",
    "    plt.xticks(fontsize=14)\n",
    "    plt.yticks(fontsize=14)\n",
    "    plt.show()\n",
    "    \n",
    "    return\n",
    "\n",
    "def vis_lambda(results_lambdas, lambdas, setting):\n",
    "    \n",
    "    mean_set, std_set = create_setting(results_lambdas, lambdas, setting)\n",
    "    \n",
    "    if setting == 'all':\n",
    "        plot_setting(mean_set, std_set, setting)\n",
    "    else:\n",
    "        plot_setting(mean_set, std_set, setting)\n",
    "    \n",
    "    return mean_set, std_set"
   ]
  },
  {
   "cell_type": "code",
   "execution_count": 9,
   "id": "cc433e50",
   "metadata": {},
   "outputs": [],
   "source": [
    "def plot_metrics(map_results, setting, metric, error_dist, eval_method = None, golds = None):\n",
    "    \n",
    "    if metric == 'ae':\n",
    "        \n",
    "        if eval_method == 'looo':\n",
    "            \n",
    "            results = compute_ae_looo(map_results, error_dist)\n",
    "            \n",
    "        elif eval_method == 'acc':\n",
    "            \n",
    "            no_drop_results = []\n",
    "            for i in range(len(map_results)):\n",
    "                no_drop_results.append(map_results[i][list(map_results[i].keys())[0]]['cota'][0])\n",
    "            \n",
    "            results = compute_ae(no_drop_results, error_dist)\n",
    "        \n",
    "        results_lambas = list(results.values())\n",
    "        lmbdas         = list(results.keys())\n",
    "        \n",
    "        m, s = vis_lambda(results_lambas, lmbdas, setting)\n",
    "        \n",
    "    elif metric == 'gt':\n",
    "        \n",
    "        results = compute_gt(map_results, golds)\n",
    "        \n",
    "        results_lambas = list(results.values())\n",
    "        lmbdas         = list(results.keys())\n",
    "        \n",
    "        m, s = vis_lambda(results_lambas, lmbdas, setting)\n",
    "\n",
    "    return m, s "
   ]
  },
  {
   "cell_type": "markdown",
   "id": "70c7e66b",
   "metadata": {},
   "source": [
    "# COTA"
   ]
  },
  {
   "cell_type": "code",
   "execution_count": 10,
   "id": "63a61a2b",
   "metadata": {},
   "outputs": [],
   "source": [
    "def compute_ae(maps, error):\n",
    "    \n",
    "    results_mat_lambdas = []\n",
    "    res_lam = {}\n",
    "\n",
    "    n_sims = len(maps)\n",
    "    lmbdas = list(maps[0].keys())\n",
    "\n",
    "    for lmbda in lmbdas:\n",
    "\n",
    "        results_mat = np.zeros((len_sets, n_sims))\n",
    "\n",
    "        for n in range(n_sims):\n",
    "            j = 0\n",
    "            for metric in metrics:\n",
    "                for mapping in mappings:\n",
    "                    for average in averaging:\n",
    "                        for cost in costs:\n",
    "                            abstraction = ams.to_tuples(maps[n][lmbda][metric][mapping][average][cost], mapping)\n",
    "                            num_pairs, ae = 0, 0\n",
    "                            processed = []\n",
    "                            \n",
    "                            for pair in pairs[n]:\n",
    "                                tau = ams.to_tuples(maps[n][lmbda][metric][mapping][average][cost], mapping)\n",
    "                                if mapping != 'stochastic':\n",
    "                                    pushforward = ams.discrete_pushforward(tau, pair.base_dict, list(pair.abst_dict.keys()))\n",
    "                                else:\n",
    "                                    pushforward = ams.stochastic_pushforward(tau, pair.base_dict, list(pair.abst_dict.keys()))\n",
    "                                if error == 'jsd':\n",
    "                                    ae += distance.jensenshannon(pushforward, pair.abst_distribution)\n",
    "                                elif error == 'wass':\n",
    "                                    ae +=wasserstein_distance(pushforward, pair.abst_distribution)\n",
    "                            results_mat[j][n] = ae/len(pairs[n])\n",
    "                            j += 1               \n",
    "        results_mat_lambdas.append(results_mat)\n",
    "        \n",
    "    finals = {}\n",
    "    for i, l in enumerate(lmbdas):\n",
    "        finals[l] = results_mat_lambdas[i]\n",
    "        \n",
    "    return finals #results_mat_lambdas\n"
   ]
  },
  {
   "cell_type": "code",
   "execution_count": 11,
   "id": "a2a198a5",
   "metadata": {
    "scrolled": true
   },
   "outputs": [],
   "source": [
    "def compute_ae_looo(maps, error):\n",
    "\n",
    "    mode = 'cota'\n",
    "    results_mat_lambdas = []\n",
    "    res_lam = {}\n",
    "\n",
    "    for lmbda in lambdas:\n",
    "\n",
    "        results_mat = np.zeros((len_sets, n_sims))\n",
    "\n",
    "        for n in range(n_sims):\n",
    "            j = 0\n",
    "            for metric in metrics:\n",
    "                for mapping in mappings:\n",
    "                    for average in averaging:\n",
    "                        for cost in costs:\n",
    "                            ae = 0\n",
    "                            for pair in pairs[n]:\n",
    "                                tau = ams.to_tuples(maps[n][pair][mode][0][lmbda][metric][mapping][average][cost], mapping)\n",
    "                                if mapping != 'stochastic':\n",
    "                                    pushforward = ams.discrete_pushforward(tau, pair.base_dict, list(pair.abst_dict.keys()))\n",
    "                                else:\n",
    "                                    pushforward = ams.stochastic_pushforward(tau, pair.base_dict, list(pair.abst_dict.keys()))\n",
    "                                if error == 'jsd':\n",
    "                                    ae += distance.jensenshannon(pushforward, pair.abst_distribution)\n",
    "                                elif error == 'wass':\n",
    "                                    ae +=wasserstein_distance(pushforward, pair.abst_distribution)\n",
    "                            results_mat[j][n] = ae/len(pairs[n])\n",
    "                            j += 1\n",
    "        results_mat_lambdas.append(results_mat)\n",
    "\n",
    "    finals = {}\n",
    "    for i, l in enumerate(lambdas):\n",
    "        finals[l] = results_mat_lambdas[i]\n",
    "\n",
    "    return finals\n",
    "                                                   "
   ]
  },
  {
   "cell_type": "markdown",
   "id": "ce6ff7df",
   "metadata": {},
   "source": [
    "# ACCURACY"
   ]
  },
  {
   "cell_type": "code",
   "execution_count": 12,
   "id": "def2a073",
   "metadata": {},
   "outputs": [
    {
     "data": {
      "image/png": "[encoded data removed]",
      "text/plain": [
       "<Figure size 850x600 with 1 Axes>"
      ]
     },
     "metadata": {},
     "output_type": "display_data"
    }
   ],
   "source": [
    "means, stds = plot_metrics(\n",
    "                           map_results = looo_results,\n",
    "                           setting     = ['avg'],\n",
    "                           metric      = 'ae',\n",
    "                           eval_method = 'acc',\n",
    "                           error_dist  = 'wass'\n",
    "                          )"
   ]
  },
  {
   "cell_type": "code",
   "execution_count": null,
   "id": "19232da2",
   "metadata": {},
   "outputs": [],
   "source": []
  },
  {
   "cell_type": "markdown",
   "id": "e2623d0e",
   "metadata": {},
   "source": [
    "# LOOO"
   ]
  },
  {
   "cell_type": "code",
   "execution_count": 13,
   "id": "9c3bc99b",
   "metadata": {
    "scrolled": false
   },
   "outputs": [
    {
     "data": {
      "image/png": "[encoded data removed]",
      "text/plain": [
       "<Figure size 850x600 with 1 Axes>"
      ]
     },
     "metadata": {},
     "output_type": "display_data"
    }
   ],
   "source": [
    "means, stds = plot_metrics(\n",
    "                           map_results = looo_results,\n",
    "                           setting     = ['avg'],\n",
    "                           metric      = 'ae',\n",
    "                           eval_method = 'looo',\n",
    "                           error_dist  = 'wass'\n",
    "                          )"
   ]
  },
  {
   "cell_type": "code",
   "execution_count": null,
   "id": "3e1fbf63",
   "metadata": {},
   "outputs": [],
   "source": []
  }
 ],
 "metadata": {
  "kernelspec": {
   "display_name": "Python 3 (ipykernel)",
   "language": "python",
   "name": "python3"
  },
  "language_info": {
   "codemirror_mode": {
    "name": "ipython",
    "version": 3
   },
   "file_extension": ".py",
   "mimetype": "text/x-python",
   "name": "python",
   "nbconvert_exporter": "python",
   "pygments_lexer": "ipython3",
   "version": "3.9.13"
  },
  "toc": {
   "base_numbering": 1,
   "nav_menu": {},
   "number_sections": true,
   "sideBar": true,
   "skip_h1_title": false,
   "title_cell": "Table of Contents",
   "title_sidebar": "Contents",
   "toc_cell": false,
   "toc_position": {},
   "toc_section_display": true,
   "toc_window_display": false
  }
 },
 "nbformat": 4,
 "nbformat_minor": 5
}
