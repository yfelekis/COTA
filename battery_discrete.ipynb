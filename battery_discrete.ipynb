{
 "cells": [
  {
   "cell_type": "code",
   "execution_count": 23,
   "id": "d1ca742a",
   "metadata": {},
   "outputs": [],
   "source": [
    "import itertools\n",
    "import joblib\n",
    "import pickle \n",
    "\n",
    "import networkx as nx\n",
    "import numpy as np\n",
    "import pandas as pd\n",
    "import cvxpy as cp\n",
    "\n",
    "import matplotlib.pyplot as plt\n",
    "import matplotlib.pylab as pl\n",
    "import seaborn as sns\n",
    "import random \n",
    "\n",
    "from pgmpy import inference\n",
    "\n",
    "import ot\n",
    "import ot.plot\n",
    "from ot.datasets import make_1D_gauss as gauss\n",
    "\n",
    "import scipy.optimize as optimize\n",
    "from scipy.spatial.distance import cdist, squareform, pdist\n",
    "from scipy.stats import wasserstein_distance\n",
    "from scipy.optimize import linprog\n",
    "from scipy import stats\n",
    "\n",
    "from collections import Counter\n",
    "from IPython.utils import io\n",
    "from cvxpy.error import SolverError\n",
    "from mpl_toolkits.mplot3d import Axes3D\n",
    "from matplotlib.collections import PolyCollection\n",
    "\n",
    "import maps\n",
    "from src.examples import smokingmodels as sm\n",
    "import modularized_utils as ut\n",
    "import cost_functions_utils as cts\n",
    "import classes as cls\n",
    "import params\n",
    "\n",
    "np.random.seed(0)\n",
    "np.set_printoptions(precision=4,suppress=True)"
   ]
  },
  {
   "cell_type": "markdown",
   "id": "f7543b56",
   "metadata": {},
   "source": [
    "## Import the Structural Causal Models"
   ]
  },
  {
   "cell_type": "code",
   "execution_count": 2,
   "id": "28cc3736",
   "metadata": {},
   "outputs": [],
   "source": [
    "M_base = joblib.load('data/batteries/scms/M_WMG_bins_5_avg_2.pkl')\n",
    "M_abst = joblib.load('data/batteries/scms/M_LRCS_bins_5.pkl') "
   ]
  },
  {
   "cell_type": "code",
   "execution_count": 3,
   "id": "8105b247",
   "metadata": {
    "scrolled": false
   },
   "outputs": [
    {
     "data": {
      "image/png": "[encoded data removed]",
      "text/plain": [
       "<Figure size 640x480 with 1 Axes>"
      ]
     },
     "metadata": {},
     "output_type": "display_data"
    }
   ],
   "source": [
    "nx.draw(nx.DiGraph(M_base.edges()),with_labels=True)"
   ]
  },
  {
   "cell_type": "code",
   "execution_count": 4,
   "id": "8827683c",
   "metadata": {},
   "outputs": [
    {
     "data": {
      "image/png": "[encoded data removed]",
      "text/plain": [
       "<Figure size 640x480 with 1 Axes>"
      ]
     },
     "metadata": {},
     "output_type": "display_data"
    }
   ],
   "source": [
    "nx.draw(nx.DiGraph(M_abst.edges()),with_labels=True)"
   ]
  },
  {
   "cell_type": "markdown",
   "id": "02dee0cd",
   "metadata": {},
   "source": [
    "## Define the sets of (relevant) interventions"
   ]
  },
  {
   "cell_type": "code",
   "execution_count": 5,
   "id": "a46c5483",
   "metadata": {},
   "outputs": [],
   "source": [
    "iota0 = cls.Intervention(M_base, {None: None})\n",
    "\n",
    "iota1 = cls.Intervention(M_base, {'CG': 75.})\n",
    "iota2 = cls.Intervention(M_base, {'CG': 110.})\n",
    "iota3 = cls.Intervention(M_base, {'CG': 180.})\n",
    "iota4 = cls.Intervention(M_base, {'CG': 200.})\n",
    "\n",
    "\n",
    "iota0_prime = cls.Intervention(M_abst, {None: None})\n",
    "\n",
    "iota1_prime = cls.Intervention(M_base, {'CG': 75.})\n",
    "iota2_prime = cls.Intervention(M_base, {'CG': 100.})\n",
    "iota3_prime = cls.Intervention(M_base, {'CG': 200.})"
   ]
  },
  {
   "cell_type": "markdown",
   "id": "ef213b19",
   "metadata": {},
   "source": [
    "## Define the (total) surjective and order-preserving function $ω:I_{base} \\mapsto I_{abst}$"
   ]
  },
  {
   "cell_type": "code",
   "execution_count": 6,
   "id": "5cb2850a",
   "metadata": {},
   "outputs": [],
   "source": [
    "omega = {   \n",
    "            iota0: iota0_prime,\n",
    "            iota1: iota1_prime,\n",
    "            iota2: iota2_prime,\n",
    "            iota3: iota3_prime,\n",
    "            iota4: iota3_prime\n",
    "        }\n",
    "\n",
    "I_relevant = list(omega.keys())"
   ]
  },
  {
   "cell_type": "code",
   "execution_count": 7,
   "id": "f3ca5457",
   "metadata": {},
   "outputs": [
    {
     "data": {
      "text/plain": [
       "['data/battery_discrete/omega.pkl']"
      ]
     },
     "execution_count": 7,
     "metadata": {},
     "output_type": "execute_result"
    }
   ],
   "source": [
    "joblib.dump(M_base,'data/battery_discrete/M_base.pkl')\n",
    "joblib.dump(M_abst,'data/battery_discrete/M_abst.pkl')\n",
    "joblib.dump(omega,'data/battery_discrete/omega.pkl')"
   ]
  },
  {
   "cell_type": "code",
   "execution_count": 8,
   "id": "d2fc696d",
   "metadata": {},
   "outputs": [],
   "source": [
    "n_simuls   = params.n_simuls['battery_discrete']\n",
    "n_samples  = params.n_samples['battery_discrete']"
   ]
  },
  {
   "cell_type": "markdown",
   "id": "f9fd42e2",
   "metadata": {},
   "source": [
    "## Create the set of pairs $Π_ω(I)$"
   ]
  },
  {
   "cell_type": "markdown",
   "id": "7fbfe15e",
   "metadata": {},
   "source": [
    "$$\\Pi_{\\omega}(\\mathcal{I})=\\{\\pi_i : i=1,...,|\\mathcal{I}|\\}$$\n",
    "\n",
    "where $\\forall i \\in \\mathcal{I} : \\pi_i = (\\pi_{i,s},\\pi_{i,t})=(P_{M_i}(\\mathcal{X}), P_{M'_{\\omega(i)}}(\\mathcal{Y}))$.\n",
    "\n",
    "Note, that $\\pi_{i,s}$ expresses the source distribution and $\\pi_{i,t}$ the target distribution of the $i$-th pair."
   ]
  },
  {
   "cell_type": "code",
   "execution_count": 9,
   "id": "9e25336e",
   "metadata": {},
   "outputs": [],
   "source": [
    "df_base = joblib.load('data/batteries/dfs/df_WMG_bins_5_avg_2.pkl')\n",
    "df_abst = joblib.load('data/batteries/dfs/df_LRCS_bins_5.pkl')"
   ]
  },
  {
   "cell_type": "code",
   "execution_count": 10,
   "id": "eaba6ef3",
   "metadata": {},
   "outputs": [],
   "source": [
    "df_base.drop(df_base.columns[[1,2]], axis=1, inplace=True)\n",
    "df_base.replace({75:0, 110:1, 150:2, 170:3, 180:4, 200:5}, inplace=True)"
   ]
  },
  {
   "cell_type": "code",
   "execution_count": 11,
   "id": "a0ff72b9",
   "metadata": {},
   "outputs": [],
   "source": [
    "df_abst.drop(df_abst.columns[[1]], axis=1, inplace=True)\n",
    "df_abst.replace({75:0, 100:1, 200:2}, inplace=True)"
   ]
  },
  {
   "cell_type": "code",
   "execution_count": 12,
   "id": "55271bcf",
   "metadata": {},
   "outputs": [
    {
     "data": {
      "text/plain": [
       "['data/battery_discrete/df_abstB.pkl']"
      ]
     },
     "execution_count": 12,
     "metadata": {},
     "output_type": "execute_result"
    }
   ],
   "source": [
    "joblib.dump(df_base,'data/battery_discrete/df_baseB.pkl')\n",
    "joblib.dump(df_abst,'data/battery_discrete/df_abstB.pkl')"
   ]
  },
  {
   "cell_type": "code",
   "execution_count": 13,
   "id": "cb2b20ad",
   "metadata": {},
   "outputs": [],
   "source": [
    "base_vals = list(itertools.product(range(6),range(5),range(5)))\n",
    "abst_vals = list(itertools.product(range(3),range(5)))"
   ]
  },
  {
   "cell_type": "code",
   "execution_count": 14,
   "id": "e7d74e26",
   "metadata": {},
   "outputs": [],
   "source": [
    "N = np.float64(df_base.shape[0])\n",
    "base_p_null = {}\n",
    "for v in base_vals:\n",
    "    p = df_base[(df_base['CG'] == v[0]) & (df_base['binned ML_avg0'] == v[1]) & (df_base['binned ML_avg0'] == v[2])].shape[0] / N\n",
    "    base_p_null[v] = p\n",
    "\n",
    "M = np.float64(df_abst.shape[0])\n",
    "abst_p_null = {}\n",
    "for v in abst_vals:\n",
    "    p = df_abst[(df_abst['Comma gap (µm)'] == v[0]) & (df_abst['binned ML'] == v[1])].shape[0] / M\n",
    "    abst_p_null[v] = p    "
   ]
  },
  {
   "cell_type": "code",
   "execution_count": 15,
   "id": "249daa61",
   "metadata": {},
   "outputs": [],
   "source": [
    "def extract_interventional(df_base,df_abst,base_vals,abst_vals,base_int,abst_int):\n",
    "\n",
    "    interv_base_df = df_base.loc[(df_base['CG'] == base_int)]\n",
    "    N = np.float64(interv_base_df.shape[0])\n",
    "    base_p = {}\n",
    "    for v in base_vals:\n",
    "        p = interv_base_df[(interv_base_df['CG'] == v[0]) & (interv_base_df['binned ML_avg0'] == v[1]) & (interv_base_df['binned ML_avg0'] == v[2])].shape[0] / N\n",
    "        base_p[v] = p\n",
    "\n",
    "    interv_abst_df = df_abst.loc[(df_abst['Comma gap (µm)'] == abst_int)]    \n",
    "    M = np.float64(interv_abst_df.shape[0])\n",
    "    abst_p = {}\n",
    "    for v in abst_vals:\n",
    "        p = interv_abst_df[(interv_abst_df['Comma gap (µm)'] == v[0]) & (interv_abst_df['binned ML'] == v[1])].shape[0] / M\n",
    "        abst_p[v] = p\n",
    "\n",
    "    return base_p,abst_p"
   ]
  },
  {
   "cell_type": "code",
   "execution_count": 16,
   "id": "c3aafdf5",
   "metadata": {},
   "outputs": [],
   "source": [
    "base_p_CG75, abst_p_CG75   = extract_interventional(df_base,df_abst,base_vals,abst_vals,0,0)\n",
    "base_p_CG110, abst_p_CG100 = extract_interventional(df_base,df_abst,base_vals,abst_vals,1,1)\n",
    "base_p_CG180, abst_p_CG200 = extract_interventional(df_base,df_abst,base_vals,abst_vals,4,2)\n",
    "base_p_CG200, abst_p_CG200 = extract_interventional(df_base,df_abst,base_vals,abst_vals,5,2)"
   ]
  },
  {
   "cell_type": "code",
   "execution_count": 17,
   "id": "a98127f3",
   "metadata": {
    "scrolled": true
   },
   "outputs": [],
   "source": [
    "pairs = []\n",
    "\n",
    "for n in range(n_simuls):\n",
    "    \n",
    "    ps0 = cls.Pair(base_p_null, abst_p_null, iota0, iota0_prime)\n",
    "    ps1 = cls.Pair(base_p_CG75, abst_p_CG75, iota1, iota1_prime)\n",
    "    ps2 = cls.Pair(base_p_CG110, abst_p_CG100, iota2, iota2_prime)\n",
    "    ps3 = cls.Pair(base_p_CG180, abst_p_CG200, iota3, iota3_prime)\n",
    "    ps4 = cls.Pair(base_p_CG200, abst_p_CG200, iota4, iota3_prime)\n",
    "    \n",
    "    ps = [ps0, ps1, ps2, ps3, ps4]  \n",
    "    pairs.append(ps)"
   ]
  },
  {
   "cell_type": "code",
   "execution_count": 18,
   "id": "ba0ad849",
   "metadata": {},
   "outputs": [],
   "source": [
    "base_mapping = {75.0: 0, 110.0: 1, 180.0: 4, 200.0: 5}\n",
    "abst_mapping = {75.0: 0, 100.0: 1, 200.0: 2}\n",
    "\n",
    "for pair in pairs[0]:\n",
    "    db =  pair.iota_base.intervention\n",
    "    for key, value in db.items():\n",
    "        if value in base_mapping:\n",
    "            db[key] = base_mapping[value]\n",
    "    \n",
    "for pair in pairs[0]:\n",
    "    da =  pair.iota_abst.intervention\n",
    "    for key, value in da.items():\n",
    "        if value in abst_mapping:\n",
    "            da[key] = abst_mapping[value]"
   ]
  },
  {
   "cell_type": "code",
   "execution_count": 19,
   "id": "9a694764",
   "metadata": {},
   "outputs": [
    {
     "data": {
      "text/plain": [
       "['data/battery_discrete/pairs.pkl']"
      ]
     },
     "execution_count": 19,
     "metadata": {},
     "output_type": "execute_result"
    }
   ],
   "source": [
    "joblib.dump(pairs,'data/battery_discrete/pairs.pkl')"
   ]
  },
  {
   "cell_type": "code",
   "execution_count": 20,
   "id": "72779552",
   "metadata": {},
   "outputs": [
    {
     "data": {
      "text/plain": [
       "<AxesSubplot:>"
      ]
     },
     "execution_count": 20,
     "metadata": {},
     "output_type": "execute_result"
    },
    {
     "data": {
      "image/png": "[encoded data removed]",
      "text/plain": [
       "<Figure size 640x480 with 2 Axes>"
      ]
     },
     "metadata": {},
     "output_type": "display_data"
    }
   ],
   "source": [
    "sns.heatmap(cts.generate_omega_cost_matrix(pairs[0]))"
   ]
  },
  {
   "cell_type": "code",
   "execution_count": null,
   "id": "574c47c8",
   "metadata": {},
   "outputs": [],
   "source": [
    "sns.heatmap(cts.generate_hamming_cost_matrix(pairs[0]))"
   ]
  },
  {
   "cell_type": "markdown",
   "id": "4a0cd067",
   "metadata": {},
   "source": [
    "# Pairs Shuffling"
   ]
  },
  {
   "cell_type": "code",
   "execution_count": 32,
   "id": "e6ba0f76",
   "metadata": {},
   "outputs": [],
   "source": [
    "base_list = list(pairs[0][0].base_dict.keys())\n",
    "abst_list = list(pairs[0][0].abst_dict.keys())\n",
    "\n",
    "random.shuffle(base_list)\n",
    "random.shuffle(abst_list)\n",
    "\n",
    "for n in range(n_simuls):\n",
    "    for pair in pairs[n]:\n",
    "        \n",
    "        pair.base_labels = base_list\n",
    "        pair.abst_labels = abst_list\n",
    "        \n",
    "        pair.base_dict = {key: pair.base_dict[key] for key in base_list}\n",
    "        pair.abst_dict = {key: pair.abst_dict[key] for key in abst_list}\n",
    "        \n",
    "        pair.base_distribution = list(pair.base_dict.values())\n",
    "        pair.abst_distribution = list(pair.abst_dict.values())"
   ]
  },
  {
   "cell_type": "code",
   "execution_count": 33,
   "id": "a9ceedc7",
   "metadata": {},
   "outputs": [
    {
     "data": {
      "text/plain": [
       "['data/battery_discrete/shufpairs.pkl']"
      ]
     },
     "execution_count": 33,
     "metadata": {},
     "output_type": "execute_result"
    }
   ],
   "source": [
    "joblib.dump(pairs,'data/battery_discrete/shufpairs.pkl')"
   ]
  },
  {
   "cell_type": "code",
   "execution_count": 34,
   "id": "c0dca248",
   "metadata": {},
   "outputs": [
    {
     "data": {
      "text/plain": [
       "<AxesSubplot:>"
      ]
     },
     "execution_count": 34,
     "metadata": {},
     "output_type": "execute_result"
    },
    {
     "data": {
      "image/png": "[encoded data removed]",
      "text/plain": [
       "<Figure size 640x480 with 2 Axes>"
      ]
     },
     "metadata": {},
     "output_type": "display_data"
    }
   ],
   "source": [
    "sns.heatmap(cts.generate_omega_cost_matrix(pairs[0]))"
   ]
  },
  {
   "cell_type": "code",
   "execution_count": 31,
   "id": "20fefc71",
   "metadata": {},
   "outputs": [
    {
     "data": {
      "text/plain": [
       "<AxesSubplot:>"
      ]
     },
     "execution_count": 31,
     "metadata": {},
     "output_type": "execute_result"
    },
    {
     "data": {
      "image/png": "[encoded data removed]",
      "text/plain": [
       "<Figure size 640x480 with 2 Axes>"
      ]
     },
     "metadata": {},
     "output_type": "display_data"
    }
   ],
   "source": [
    "sns.heatmap(cts.generate_hamming_cost_matrix(pairs[0]))"
   ]
  },
  {
   "cell_type": "code",
   "execution_count": null,
   "id": "89c2b773",
   "metadata": {},
   "outputs": [],
   "source": []
  }
 ],
 "metadata": {
  "kernelspec": {
   "display_name": "Python 3 (ipykernel)",
   "language": "python",
   "name": "python3"
  },
  "language_info": {
   "codemirror_mode": {
    "name": "ipython",
    "version": 3
   },
   "file_extension": ".py",
   "mimetype": "text/x-python",
   "name": "python",
   "nbconvert_exporter": "python",
   "pygments_lexer": "ipython3",
   "version": "3.9.13"
  }
 },
 "nbformat": 4,
 "nbformat_minor": 5
}
