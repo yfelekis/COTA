{
 "cells": [
  {
   "cell_type": "code",
   "execution_count": 1,
   "id": "5db701d3",
   "metadata": {},
   "outputs": [],
   "source": [
    "import itertools\n",
    "\n",
    "import random\n",
    "import numpy as np\n",
    "import pandas as pd\n",
    "import cvxpy as cp\n",
    "from tqdm import tqdm\n",
    "\n",
    "from scipy.spatial import distance\n",
    "from cvxpy.error import SolverError\n",
    "from cvxpy import ECOS, SCS\n",
    "import seaborn as sns\n",
    "import ot\n",
    "from pgmpy import inference\n",
    "import matplotlib.pyplot as plt\n",
    "from scipy.stats import wasserstein_distance\n",
    "import plotly.graph_objects as go\n",
    "import plotly.graph_objs as go\n",
    "import plotly.express as px\n",
    "\n",
    "from plotly.subplots import make_subplots\n",
    "from mpltern.datasets import get_triangular_grid\n",
    "import scipy.optimize as optimize\n",
    "from scipy.spatial.distance import cdist\n",
    "from src.examples import smokingmodels as sm\n",
    "from scipy.spatial.distance import squareform,pdist\n",
    "from scipy.optimize import linprog\n",
    "from scipy import stats\n",
    "from scipy.stats import wasserstein_distance\n",
    "\n",
    "from IPython.utils import io\n",
    "import warnings\n",
    "\n",
    "import joblib\n",
    "import modularized_utils as ut\n",
    "import abstraction_metrics as ams\n",
    "import matplotlib.pylab as pl\n",
    "\n",
    "import get_results\n",
    "import params\n",
    "\n",
    "np.random.seed(0)\n",
    "\n",
    "warnings.filterwarnings(action='ignore')\n",
    "np.set_printoptions(precision=4,suppress=True)"
   ]
  },
  {
   "cell_type": "code",
   "execution_count": 2,
   "id": "295c0858",
   "metadata": {},
   "outputs": [],
   "source": [
    "def create_comb(a, b, c):\n",
    "    return str(a)+'-'+str(b)+'-'+str(c)\n",
    "\n",
    "def parse_comb(input_string):\n",
    "    a, b, c = input_string.split('-')\n",
    "    return [float(a), float(b), float(c)]"
   ]
  },
  {
   "cell_type": "code",
   "execution_count": 3,
   "id": "25e0d4f4",
   "metadata": {},
   "outputs": [],
   "source": [
    "def leave_one_out_grid(pairs, dropped_pair, experiment, combination, df, cf, cota_version):\n",
    "    \n",
    "    omega = {}\n",
    "    for pair in pairs:\n",
    "        omega[pair.iota_base] = pair.iota_abst\n",
    "    \n",
    "    hold_pairs = pairs.copy()\n",
    "   \n",
    "    if dropped_pair != None:\n",
    "        hold_pairs.remove(dropped_pair)\n",
    "        hold_omega  = ut.drop1omega(omega, dropped_pair.iota_base)\n",
    "        \n",
    "    else:\n",
    "        hold_omega = omega\n",
    "        \n",
    "    I_relevant  = list(hold_omega.keys())\n",
    "\n",
    "    struc, tree = ut.build_poset(I_relevant)\n",
    "    chains      = ut.to_chains(hold_pairs, struc)\n",
    "    \n",
    "    combin = parse_comb(combination)\n",
    "    kk, ll, mm = combin[0], combin[1], combin[2]\n",
    "    \n",
    "    args   = [hold_pairs, [chains], kk, ll, mm, df, cf]\n",
    "    \n",
    "    if cota_version == 'avg_plan':\n",
    "        get_results.results_grid_looo(args, experiment, dropped_pair)\n",
    "        looo_grid_results = ut.load_grid_results_looo(experiment, combination, dropped_pair)\n",
    "        \n",
    "    elif cota_version == 'avg_map':\n",
    "        get_results.results_grid_looo_aggregated(args, experiment, dropped_pair)\n",
    "        looo_grid_results = ut.load_grid_results_looo_aggregated(experiment, combination, dropped_pair)\n",
    "    \n",
    "    return looo_grid_results"
   ]
  },
  {
   "cell_type": "code",
   "execution_count": 4,
   "id": "738a8a56",
   "metadata": {},
   "outputs": [],
   "source": [
    "def compute_ae_grid_looo(exp, pairs, combo, metric, cost, cota_version):\n",
    "    \n",
    "    looo_results_grid = []\n",
    "    for n in range(len(pairs)):\n",
    "\n",
    "        results_grid = {}\n",
    "        for i, pair in enumerate(pairs[n]):\n",
    "\n",
    "            if pair.iota_base.intervention != {None: None}:\n",
    "                dropped_pair = pair\n",
    "            else:\n",
    "                dropped_pair = None\n",
    "\n",
    "            results_grid[dropped_pair] = leave_one_out_grid(pairs[n], dropped_pair, exp, combo, metric, cost, cota_version)\n",
    "\n",
    "        looo_results_grid.append(results_grid)\n",
    "    \n",
    "    return looo_results_grid"
   ]
  },
  {
   "cell_type": "code",
   "execution_count": 5,
   "id": "a4273c98",
   "metadata": {},
   "outputs": [],
   "source": [
    "def get_looo_results(maps, pairs, looo, error, cota_version):\n",
    "    \n",
    "    no_looo_map = maps[0][list(maps[0].keys())[0]]\n",
    "    \n",
    "    if cota_version == 'avg_plan':\n",
    "        no_looo_map = no_looo_map[0]\n",
    "    \n",
    "    n_sims = len(maps)\n",
    "    avg_list = []\n",
    "    for n in range(n_sims):\n",
    "\n",
    "        ae = 0\n",
    "        for pair in pairs[n]:\n",
    "            #print('base: ', pair.iota_base.intervention, 'abst: ', pair.iota_abst.intervention)\n",
    "            if pair.iota_base.intervention == {None: None}:\n",
    "                p = None\n",
    "            else:\n",
    "                p = pair\n",
    "            \n",
    "            tau_dict = maps[n][p]\n",
    "            \n",
    "            if cota_version == 'avg_plan':\n",
    "                tau_dict = tau_dict[0]\n",
    "                \n",
    "            if looo == True:\n",
    "                tau = ams.to_tuples(tau_dict, 'stochastic')\n",
    "            else:\n",
    "                tau = ams.to_tuples(no_looo_map, 'stochastic')\n",
    "\n",
    "            pushforward = ams.stochastic_pushforward(tau, pair.base_dict, list(pair.abst_dict.keys()))\n",
    "            \n",
    "            if error == 'jsd':\n",
    "                d = distance.jensenshannon(pushforward, pair.abst_distribution)\n",
    "                ae += d\n",
    "            elif error == 'wass':\n",
    "                d = wasserstein_distance(pushforward, pair.abst_distribution)\n",
    "                ae += d\n",
    "\n",
    "        avg_list.append(ae/len(pairs[n]))\n",
    "\n",
    "    return np.mean(avg_list), np.std(avg_list)"
   ]
  },
  {
   "cell_type": "code",
   "execution_count": 6,
   "id": "c58a5bb1",
   "metadata": {},
   "outputs": [],
   "source": [
    "def run_cota(exp, pairs, metric, cost, n_grid, looo, error, cota_version):    \n",
    "\n",
    "    track_MI = False\n",
    "    if n_grid != 1:\n",
    "        \n",
    "        k_list, l_list, m_list = get_triangular_grid(n_grid)\n",
    "        conv_combinations = []\n",
    "        for elements in zip(k_list, l_list, m_list):\n",
    "            kappa, lmbda, mu = elements[0], elements[1], elements[2]\n",
    "            conv_combinations.append(create_comb(kappa, lmbda, mu))\n",
    "            \n",
    "    else:\n",
    "        conv_combinations = ['1.0-0.0-0.0']\n",
    "\n",
    "    grid_dict, stds = {}, {}\n",
    "    excluded_combos     = []\n",
    "    for combo in tqdm(conv_combinations):\n",
    "        try:\n",
    "            ms               = compute_ae_grid_looo(exp, pairs, combo, metric, cost, cota_version)\n",
    "            grid_dict[combo], stds[combo] = get_looo_results(ms, pairs, looo, error, cota_version)\n",
    "        except SolverError:\n",
    "            print(f\"SolverError occurred for combo: {combo}. Skipping this combo.\")\n",
    "            excluded_combos.append(combo)\n",
    "\n",
    "    conv_combinations = [combo for combo in conv_combinations if combo not in excluded_combos]\n",
    "    k_list, l_list, m_list = [], [], []\n",
    "    for combo in conv_combinations:\n",
    "        kappa, lmbda, mu = map(float, combo.split('-'))\n",
    "        k_list.append(kappa)\n",
    "        l_list.append(lmbda)\n",
    "        m_list.append(mu)\n",
    "\n",
    "    f_values    = list(grid_dict.values())\n",
    "    std_values  = list(stds.values())\n",
    "\n",
    "    data_dict = {\n",
    "        'κ': k_list,\n",
    "        'λ': l_list,\n",
    "        'μ': m_list,\n",
    "        'e(α)': f_values,\n",
    "        'std': std_values\n",
    "    }\n",
    "\n",
    "    df_simplex = pd.DataFrame(data_dict)\n",
    "\n",
    "    sorted_simplex = df_simplex.sort_values(by='e(α)', ascending=True)\n",
    "    \n",
    "    return sorted_simplex"
   ]
  },
  {
   "cell_type": "code",
   "execution_count": 7,
   "id": "d898f290",
   "metadata": {},
   "outputs": [],
   "source": [
    "def get_solution(sorted_simplex, m, c, cota_version):\n",
    "\n",
    "    mean = np.mean(list(sorted_simplex['e(α)']))\n",
    "    std  = np.std(list(sorted_simplex['e(α)']))\n",
    "\n",
    "    min_index = sorted_simplex['e(α)'].idxmin()\n",
    "\n",
    "    min_a = sorted_simplex.loc[min_index, 'κ']\n",
    "    min_b = sorted_simplex.loc[min_index, 'λ']\n",
    "    min_c = sorted_simplex.loc[min_index, 'μ']\n",
    "\n",
    "    min_value = sorted_simplex.loc[min_index, 'e(α)']\n",
    "    \n",
    "    lookup_values = {'κ': 1.0, 'λ': 0.0, 'μ': 0.0}\n",
    "\n",
    "    pwise = sorted_simplex.loc[(sorted_simplex['κ'] == lookup_values['κ']) & (sorted_simplex['λ'] == lookup_values['λ']) & (sorted_simplex['μ'] == lookup_values['μ'])]\n",
    "\n",
    "    pw_mean = pwise['e(α)'][0]\n",
    "    pw_std  = pwise['std'][0]\n",
    "\n",
    "    return min_value, min_a, min_b, min_c"
   ]
  },
  {
   "cell_type": "code",
   "execution_count": 8,
   "id": "c709a6ae",
   "metadata": {},
   "outputs": [],
   "source": [
    "relevant_experiments = [params.experiments[1], #synth1\n",
    "                        params.experiments[9], #synth1T\n",
    "                        params.experiments[7], #battery\n",
    "                        params.experiments[6]] #lucas\n",
    "\n",
    "n_grid_experiments   = {'synth1': 14,\n",
    "                        'synth1T': 14,\n",
    "                        'battery_discrete': 14,\n",
    "                        'little_lucas': 12,\n",
    "                        'synth1Tinv': 14\n",
    "                       }"
   ]
  },
  {
   "cell_type": "code",
   "execution_count": 9,
   "id": "c74455ab",
   "metadata": {},
   "outputs": [],
   "source": [
    "relevant_experiments = [params.experiments[1]]"
   ]
  },
  {
   "cell_type": "code",
   "execution_count": null,
   "id": "e6553810",
   "metadata": {},
   "outputs": [
    {
     "name": "stdout",
     "output_type": "stream",
     "text": [
      "COTA:  avg_plan\n",
      "----------------\n",
      "jsd\n",
      "Experiment:  synth1\n",
      "fro--Omega\n"
     ]
    },
    {
     "name": "stderr",
     "output_type": "stream",
     "text": [
      " 82%|██████████████████████████████████▍       | 86/105 [01:15<00:16,  1.14it/s]"
     ]
    }
   ],
   "source": [
    "errors    = ['jsd']#, 'wass']\n",
    "versions  = ['avg_plan']#, 'avg_map']\n",
    "\n",
    "for version in versions:\n",
    "    print('COTA: ', version)\n",
    "    print('----------------')\n",
    "    for looo in [True]: #, False]:\n",
    "        for error in errors:\n",
    "            print(error)\n",
    "            for exp in relevant_experiments:\n",
    "                print('Experiment: ', exp)\n",
    "                pairs  = ut.load_pairs(exp)\n",
    "                n_grid = n_grid_experiments[exp]\n",
    "\n",
    "                for metric in ['fro', 'jsd']:\n",
    "                    for cost in ['Omega', 'Hamming']:\n",
    "                        print(f\"{metric}--{cost}\")\n",
    "                        df_simplex       = run_cota(exp, pairs, metric, cost, n_grid, looo, error, version)\n",
    "                        min_val, k, l, m = get_solution(df_simplex, metric, cost, version)\n",
    "                        \n",
    "                        min_combo = create_comb(k, l, m)\n",
    "                        ms   = compute_ae_grid_looo(exp, pairs, min_combo, metric, cost, version)\n",
    "                        v, s = get_looo_results(ms, pairs, looo, error, version)\n",
    "                        \n",
    "                        print(f\"e(τ*) = {min_val} ± {s*1.96} for κ: {k}, λ: {l}, μ: {m}\")\n",
    "                        \n",
    "                        print( )\n",
    "                print( )\n",
    "            print( )\n",
    "    print( )"
   ]
  },
  {
   "cell_type": "markdown",
   "id": "b15ba15c",
   "metadata": {},
   "source": [
    "# COTA"
   ]
  },
  {
   "cell_type": "code",
   "execution_count": 9,
   "id": "c903a172",
   "metadata": {
    "scrolled": true
   },
   "outputs": [
    {
     "name": "stdout",
     "output_type": "stream",
     "text": [
      "COTA:  avg_plan\n",
      "----------------\n",
      "jsd\n",
      "Experiment:  synth1\n",
      "fro--Omega\n"
     ]
    },
    {
     "name": "stderr",
     "output_type": "stream",
     "text": [
      "100%|█████████████████████████████████████████| 105/105 [43:45<00:00, 25.00s/it]\n"
     ]
    },
    {
     "name": "stdout",
     "output_type": "stream",
     "text": [
      "e(τ*) = 0.011333459551271968 ± 0.005081186835427099 for κ: 0.3846153846153846, λ: 0.46153846153846145, μ: 0.15384615384615374\n",
      "\n",
      "fro--Hamming\n"
     ]
    },
    {
     "name": "stderr",
     "output_type": "stream",
     "text": [
      "100%|█████████████████████████████████████████| 105/105 [40:26<00:00, 23.11s/it]\n"
     ]
    },
    {
     "name": "stdout",
     "output_type": "stream",
     "text": [
      "e(τ*) = 0.012753006864678723 ± 0.0038820245884312204 for κ: 0.46153846153846145, λ: 0.5384615384615384, μ: 0.0\n",
      "\n",
      "jsd--Omega\n"
     ]
    },
    {
     "name": "stderr",
     "output_type": "stream",
     "text": [
      "100%|███████████████████████████████████████| 105/105 [1:43:22<00:00, 59.08s/it]\n"
     ]
    },
    {
     "name": "stdout",
     "output_type": "stream",
     "text": [
      "e(τ*) = 0.00897379600081668 ± 0.004468844159639562 for κ: 0.6153846153846154, λ: 0.3846153846153846, μ: 0.0\n",
      "\n",
      "jsd--Hamming\n"
     ]
    },
    {
     "name": "stderr",
     "output_type": "stream",
     "text": [
      "100%|███████████████████████████████████████| 105/105 [1:24:26<00:00, 48.25s/it]\n"
     ]
    },
    {
     "name": "stdout",
     "output_type": "stream",
     "text": [
      "e(τ*) = 0.035049979567718326 ± 0.005805373148281864 for κ: 0.6153846153846154, λ: 0.23076923076923073, μ: 0.15384615384615374\n",
      "\n",
      "\n",
      "\n",
      "wass\n",
      "Experiment:  synth1\n",
      "fro--Omega\n"
     ]
    },
    {
     "name": "stderr",
     "output_type": "stream",
     "text": [
      "100%|█████████████████████████████████████████| 105/105 [44:57<00:00, 25.69s/it]\n"
     ]
    },
    {
     "name": "stdout",
     "output_type": "stream",
     "text": [
      "e(τ*) = 0.010440875165478045 ± 0.0030794764802298488 for κ: 0.3076923076923077, λ: 0.5384615384615384, μ: 0.15384615384615374\n",
      "\n",
      "fro--Hamming\n"
     ]
    },
    {
     "name": "stderr",
     "output_type": "stream",
     "text": [
      "100%|█████████████████████████████████████████| 105/105 [40:03<00:00, 22.89s/it]\n"
     ]
    },
    {
     "name": "stdout",
     "output_type": "stream",
     "text": [
      "e(τ*) = 0.011372602389263716 ± 0.002020223029299705 for κ: 0.46153846153846145, λ: 0.5384615384615384, μ: 0.0\n",
      "\n",
      "jsd--Omega\n"
     ]
    },
    {
     "name": "stderr",
     "output_type": "stream",
     "text": [
      "100%|███████████████████████████████████████| 105/105 [1:21:20<00:00, 46.48s/it]\n"
     ]
    },
    {
     "name": "stdout",
     "output_type": "stream",
     "text": [
      "e(τ*) = 0.00927460823225766 ± 0.0018261130803632272 for κ: 0.6923076923076923, λ: 0.3076923076923077, μ: 0.0\n",
      "\n",
      "jsd--Hamming\n"
     ]
    },
    {
     "name": "stderr",
     "output_type": "stream",
     "text": [
      "100%|███████████████████████████████████████| 105/105 [1:15:05<00:00, 42.91s/it]\n"
     ]
    },
    {
     "name": "stdout",
     "output_type": "stream",
     "text": [
      "e(τ*) = 0.016744373478933802 ± 0.0025521976932291117 for κ: 0.6153846153846154, λ: 0.23076923076923073, μ: 0.15384615384615374\n",
      "\n",
      "\n",
      "\n",
      "\n",
      "COTA:  avg_map\n",
      "----------------\n",
      "jsd\n",
      "Experiment:  synth1\n",
      "fro--Omega\n"
     ]
    },
    {
     "name": "stderr",
     "output_type": "stream",
     "text": [
      "100%|█████████████████████████████████████████| 105/105 [38:13<00:00, 21.84s/it]\n"
     ]
    },
    {
     "name": "stdout",
     "output_type": "stream",
     "text": [
      "e(τ*) = 0.015123437164394604 ± 0.021926233521647978 for κ: 0.6153846153846154, λ: 0.3846153846153846, μ: 0.0\n",
      "\n",
      "fro--Hamming\n"
     ]
    },
    {
     "name": "stderr",
     "output_type": "stream",
     "text": [
      "100%|█████████████████████████████████████████| 105/105 [34:14<00:00, 19.57s/it]\n"
     ]
    },
    {
     "name": "stdout",
     "output_type": "stream",
     "text": [
      "e(τ*) = 0.09705467818511497 ± 0.009544632696508813 for κ: 0.07692307692307687, λ: 0.9230769230769231, μ: 0.0\n",
      "\n",
      "jsd--Omega\n"
     ]
    },
    {
     "name": "stderr",
     "output_type": "stream",
     "text": [
      "100%|███████████████████████████████████████| 105/105 [1:19:27<00:00, 45.41s/it]\n"
     ]
    },
    {
     "name": "stdout",
     "output_type": "stream",
     "text": [
      "e(τ*) = 0.014857535284800348 ± 0.022003139266672533 for κ: 1.0, λ: 0.0, μ: 0.0\n",
      "\n",
      "jsd--Hamming\n"
     ]
    },
    {
     "name": "stderr",
     "output_type": "stream",
     "text": [
      "100%|███████████████████████████████████████| 105/105 [1:15:19<00:00, 43.04s/it]\n"
     ]
    },
    {
     "name": "stdout",
     "output_type": "stream",
     "text": [
      "e(τ*) = 0.13965350910531624 ± 0.011942158472430207 for κ: 0.5384615384615384, λ: 0.3846153846153846, μ: 0.07692307692307687\n",
      "\n",
      "\n",
      "\n",
      "wass\n",
      "Experiment:  synth1\n",
      "fro--Omega\n"
     ]
    },
    {
     "name": "stderr",
     "output_type": "stream",
     "text": [
      "100%|█████████████████████████████████████████| 105/105 [38:15<00:00, 21.87s/it]\n"
     ]
    },
    {
     "name": "stdout",
     "output_type": "stream",
     "text": [
      "e(τ*) = 0.17141374122099118 ± 0.0019639033996429185 for κ: 0.9230769230769231, λ: 0.07692307692307687, μ: 0.0\n",
      "\n",
      "fro--Hamming\n"
     ]
    },
    {
     "name": "stderr",
     "output_type": "stream",
     "text": [
      "100%|█████████████████████████████████████████| 105/105 [34:16<00:00, 19.59s/it]\n"
     ]
    },
    {
     "name": "stdout",
     "output_type": "stream",
     "text": [
      "e(τ*) = 0.17545775082769283 ± 0.001309767414390407 for κ: 0.7692307692307692, λ: 0.23076923076923073, μ: 0.0\n",
      "\n",
      "jsd--Omega\n"
     ]
    },
    {
     "name": "stderr",
     "output_type": "stream",
     "text": [
      "100%|███████████████████████████████████████| 105/105 [1:19:29<00:00, 45.43s/it]\n"
     ]
    },
    {
     "name": "stdout",
     "output_type": "stream",
     "text": [
      "e(τ*) = 0.17142012518893618 ± 0.001966357801969946 for κ: 0.9230769230769231, λ: 0.07692307692307687, μ: 0.0\n",
      "\n",
      "jsd--Hamming\n"
     ]
    },
    {
     "name": "stderr",
     "output_type": "stream",
     "text": [
      "100%|███████████████████████████████████████| 105/105 [1:15:27<00:00, 43.12s/it]\n"
     ]
    },
    {
     "name": "stdout",
     "output_type": "stream",
     "text": [
      "e(τ*) = 0.17523740951302746 ± 0.0011152228440724484 for κ: 0.9230769230769231, λ: 0.07692307692307687, μ: 0.0\n",
      "\n",
      "\n",
      "\n",
      "\n"
     ]
    }
   ],
   "source": [
    "errors    = ['jsd', 'wass']\n",
    "versions  = ['avg_plan', 'avg_map']\n",
    "\n",
    "for version in versions:\n",
    "    print('COTA: ', version)\n",
    "    print('----------------')\n",
    "    for looo in [True]: #, False]:\n",
    "        for error in errors:\n",
    "            print(error)\n",
    "            for exp in relevant_experiments:\n",
    "                print('Experiment: ', exp)\n",
    "                pairs  = ut.load_pairs(exp)\n",
    "                n_grid = n_grid_experiments[exp]\n",
    "\n",
    "                for metric in ['fro', 'jsd']:\n",
    "                    for cost in ['Omega', 'Hamming']:\n",
    "                        print(f\"{metric}--{cost}\")\n",
    "                        df_simplex       = run_cota(exp, pairs, metric, cost, n_grid, looo, error, version)\n",
    "                        min_val, k, l, m = get_solution(df_simplex, metric, cost, version)\n",
    "                        \n",
    "                        min_combo = create_comb(k, l, m)\n",
    "                        ms   = compute_ae_grid_looo(exp, pairs, min_combo, metric, cost, version)\n",
    "                        v, s = get_looo_results(ms, pairs, looo, error, version)\n",
    "                        \n",
    "                        print(f\"e(τ*) = {min_val} ± {s*1.96} for κ: {k}, λ: {l}, μ: {m}\")\n",
    "                        \n",
    "                        print( )\n",
    "                print( )\n",
    "            print( )\n",
    "    print( )"
   ]
  },
  {
   "cell_type": "markdown",
   "id": "cde3f285",
   "metadata": {},
   "source": [
    "# Baselines"
   ]
  },
  {
   "cell_type": "code",
   "execution_count": 13,
   "id": "0edb2a78",
   "metadata": {
    "scrolled": true
   },
   "outputs": [
    {
     "name": "stdout",
     "output_type": "stream",
     "text": [
      "Baseline: Pairwise OT (COTA avg_plan for κ = 1.0, λ = 0.0, μ = 0.0)\n",
      "-------------------------------------------------------------------\n",
      "e(τ):  jsd\n",
      "Experiment:  synth1\n",
      "Omega\n"
     ]
    },
    {
     "name": "stderr",
     "output_type": "stream",
     "text": [
      "100%|█████████████████████████████████████████████| 1/1 [00:22<00:00, 22.93s/it]\n"
     ]
    },
    {
     "name": "stdout",
     "output_type": "stream",
     "text": [
      "e(τ) = 0.013365752169570484 ± 0.005703081927422738\n",
      "\n",
      "Hamming\n"
     ]
    },
    {
     "name": "stderr",
     "output_type": "stream",
     "text": [
      "100%|█████████████████████████████████████████████| 1/1 [00:20<00:00, 20.11s/it]\n"
     ]
    },
    {
     "name": "stdout",
     "output_type": "stream",
     "text": [
      "e(τ) = 0.0874006202661453 ± 0.01080361781155952\n",
      "\n",
      "Experiment:  synth1T\n",
      "Omega\n"
     ]
    },
    {
     "name": "stderr",
     "output_type": "stream",
     "text": [
      "100%|█████████████████████████████████████████████| 1/1 [00:03<00:00,  3.44s/it]\n"
     ]
    },
    {
     "name": "stdout",
     "output_type": "stream",
     "text": [
      "e(τ) = 0.27984442215420646 ± 0.01484203485043764\n",
      "\n",
      "Hamming\n"
     ]
    },
    {
     "name": "stderr",
     "output_type": "stream",
     "text": [
      "100%|█████████████████████████████████████████████| 1/1 [00:03<00:00,  3.04s/it]\n"
     ]
    },
    {
     "name": "stdout",
     "output_type": "stream",
     "text": [
      "e(τ) = 0.2422169188030463 ± 0.0028675295887772697\n",
      "\n",
      "Experiment:  battery_discrete\n",
      "Omega\n"
     ]
    },
    {
     "name": "stderr",
     "output_type": "stream",
     "text": [
      "100%|█████████████████████████████████████████████| 1/1 [00:03<00:00,  3.06s/it]\n"
     ]
    },
    {
     "name": "stdout",
     "output_type": "stream",
     "text": [
      "e(τ) = 0.43049939388373837 ± 0.0\n",
      "\n",
      "Hamming\n"
     ]
    },
    {
     "name": "stderr",
     "output_type": "stream",
     "text": [
      "100%|█████████████████████████████████████████████| 1/1 [00:02<00:00,  2.98s/it]\n"
     ]
    },
    {
     "name": "stdout",
     "output_type": "stream",
     "text": [
      "e(τ) = 0.263570442776218 ± 0.0\n",
      "\n",
      "Experiment:  little_lucas\n",
      "Omega\n"
     ]
    },
    {
     "name": "stderr",
     "output_type": "stream",
     "text": [
      "100%|████████████████████████████████████████████| 1/1 [05:04<00:00, 304.66s/it]\n"
     ]
    },
    {
     "name": "stdout",
     "output_type": "stream",
     "text": [
      "e(τ) = 0.3029088851885152 ± 0.01063226897072012\n",
      "\n",
      "Hamming\n"
     ]
    },
    {
     "name": "stderr",
     "output_type": "stream",
     "text": [
      "100%|████████████████████████████████████████████| 1/1 [05:10<00:00, 310.25s/it]\n"
     ]
    },
    {
     "name": "stdout",
     "output_type": "stream",
     "text": [
      "e(τ) = 0.38574553250813265 ± 0.0038071570033329167\n",
      "\n",
      "\n",
      "e(τ):  wass\n",
      "Experiment:  synth1\n",
      "Omega\n"
     ]
    },
    {
     "name": "stderr",
     "output_type": "stream",
     "text": [
      "100%|█████████████████████████████████████████████| 1/1 [00:20<00:00, 20.82s/it]\n"
     ]
    },
    {
     "name": "stdout",
     "output_type": "stream",
     "text": [
      "e(τ) = 0.012825246305755576 ± 0.0032061953066875146\n",
      "\n",
      "Hamming\n"
     ]
    },
    {
     "name": "stderr",
     "output_type": "stream",
     "text": [
      "100%|█████████████████████████████████████████████| 1/1 [00:18<00:00, 18.51s/it]\n"
     ]
    },
    {
     "name": "stdout",
     "output_type": "stream",
     "text": [
      "e(τ) = 0.03613869354989748 ± 0.0046215134217675105\n",
      "\n",
      "Experiment:  synth1T\n",
      "Omega\n"
     ]
    },
    {
     "name": "stderr",
     "output_type": "stream",
     "text": [
      "100%|█████████████████████████████████████████████| 1/1 [00:03<00:00,  3.49s/it]\n"
     ]
    },
    {
     "name": "stdout",
     "output_type": "stream",
     "text": [
      "e(τ) = 0.0919390714915905 ± 0.005909152450128166\n",
      "\n",
      "Hamming\n"
     ]
    },
    {
     "name": "stderr",
     "output_type": "stream",
     "text": [
      "100%|█████████████████████████████████████████████| 1/1 [00:02<00:00,  2.96s/it]\n"
     ]
    },
    {
     "name": "stdout",
     "output_type": "stream",
     "text": [
      "e(τ) = 0.06770152500575735 ± 0.0013537575532277823\n",
      "\n",
      "Experiment:  battery_discrete\n",
      "Omega\n"
     ]
    },
    {
     "name": "stderr",
     "output_type": "stream",
     "text": [
      "100%|█████████████████████████████████████████████| 1/1 [00:03<00:00,  3.05s/it]\n"
     ]
    },
    {
     "name": "stdout",
     "output_type": "stream",
     "text": [
      "e(τ) = 0.02761852584995019 ± 0.0\n",
      "\n",
      "Hamming\n"
     ]
    },
    {
     "name": "stderr",
     "output_type": "stream",
     "text": [
      "100%|█████████████████████████████████████████████| 1/1 [00:03<00:00,  3.02s/it]\n"
     ]
    },
    {
     "name": "stdout",
     "output_type": "stream",
     "text": [
      "e(τ) = 0.027348418053273205 ± 0.0\n",
      "\n",
      "Experiment:  little_lucas\n",
      "Omega\n"
     ]
    },
    {
     "name": "stderr",
     "output_type": "stream",
     "text": [
      "100%|████████████████████████████████████████████| 1/1 [05:07<00:00, 307.29s/it]\n"
     ]
    },
    {
     "name": "stdout",
     "output_type": "stream",
     "text": [
      "e(τ) = 0.04495985734823442 ± 0.000942682387552874\n",
      "\n",
      "Hamming\n"
     ]
    },
    {
     "name": "stderr",
     "output_type": "stream",
     "text": [
      "100%|████████████████████████████████████████████| 1/1 [05:24<00:00, 324.13s/it]\n"
     ]
    },
    {
     "name": "stdout",
     "output_type": "stream",
     "text": [
      "e(τ) = 0.04734271323217171 ± 0.0010117178115785542\n",
      "\n",
      "\n",
      "\n",
      "Baseline: Map OT (COTA avg_map for κ = 1.0, λ = 0.0, μ = 0.0)\n",
      "-------------------------------------------------------------------\n",
      "e(τ):  jsd\n",
      "Experiment:  synth1\n",
      "Omega\n"
     ]
    },
    {
     "name": "stderr",
     "output_type": "stream",
     "text": [
      "100%|█████████████████████████████████████████████| 1/1 [00:23<00:00, 23.85s/it]\n"
     ]
    },
    {
     "name": "stdout",
     "output_type": "stream",
     "text": [
      "e(τ) = 0.018897398819199825 ± 0.022088567526157163\n",
      "\n",
      "Hamming\n"
     ]
    },
    {
     "name": "stderr",
     "output_type": "stream",
     "text": [
      "100%|█████████████████████████████████████████████| 1/1 [00:20<00:00, 20.79s/it]\n"
     ]
    },
    {
     "name": "stdout",
     "output_type": "stream",
     "text": [
      "e(τ) = 0.17129022552765405 ± 0.004998944519066082\n",
      "\n",
      "Experiment:  synth1T\n",
      "Omega\n"
     ]
    },
    {
     "name": "stderr",
     "output_type": "stream",
     "text": [
      "100%|█████████████████████████████████████████████| 1/1 [00:03<00:00,  3.94s/it]\n"
     ]
    },
    {
     "name": "stdout",
     "output_type": "stream",
     "text": [
      "e(τ) = 0.2506531994365807 ± 0.005681344274833881\n",
      "\n",
      "Hamming\n"
     ]
    },
    {
     "name": "stderr",
     "output_type": "stream",
     "text": [
      "100%|█████████████████████████████████████████████| 1/1 [00:03<00:00,  3.39s/it]\n"
     ]
    },
    {
     "name": "stdout",
     "output_type": "stream",
     "text": [
      "e(τ) = 0.22948784338721048 ± 0.004988407367197299\n",
      "\n",
      "Experiment:  battery_discrete\n",
      "Omega\n"
     ]
    },
    {
     "name": "stderr",
     "output_type": "stream",
     "text": [
      "100%|█████████████████████████████████████████████| 1/1 [00:03<00:00,  3.79s/it]\n"
     ]
    },
    {
     "name": "stdout",
     "output_type": "stream",
     "text": [
      "e(τ) = 0.40861044788908335 ± 0.0\n",
      "\n",
      "Hamming\n"
     ]
    },
    {
     "name": "stderr",
     "output_type": "stream",
     "text": [
      "100%|█████████████████████████████████████████████| 1/1 [00:03<00:00,  3.39s/it]\n"
     ]
    },
    {
     "name": "stdout",
     "output_type": "stream",
     "text": [
      "e(τ) = 0.2265346588215272 ± 0.0\n",
      "\n",
      "Experiment:  little_lucas\n",
      "Omega\n"
     ]
    },
    {
     "name": "stderr",
     "output_type": "stream",
     "text": [
      "100%|████████████████████████████████████████████| 1/1 [05:46<00:00, 346.93s/it]\n"
     ]
    },
    {
     "name": "stdout",
     "output_type": "stream",
     "text": [
      "e(τ) = 0.28026096486866725 ± 0.010740829188340089\n",
      "\n",
      "Hamming\n"
     ]
    },
    {
     "name": "stderr",
     "output_type": "stream",
     "text": [
      "100%|████████████████████████████████████████████| 1/1 [05:51<00:00, 351.25s/it]\n"
     ]
    },
    {
     "name": "stdout",
     "output_type": "stream",
     "text": [
      "e(τ) = 0.341848891041967 ± 0.005577075255617967\n",
      "\n",
      "\n",
      "e(τ):  wass\n",
      "Experiment:  synth1\n",
      "Omega\n"
     ]
    },
    {
     "name": "stderr",
     "output_type": "stream",
     "text": [
      "100%|█████████████████████████████████████████████| 1/1 [00:23<00:00, 23.84s/it]\n"
     ]
    },
    {
     "name": "stdout",
     "output_type": "stream",
     "text": [
      "e(τ) = 0.1714544646591796 ± 0.0020770761586346286\n",
      "\n",
      "Hamming\n"
     ]
    },
    {
     "name": "stderr",
     "output_type": "stream",
     "text": [
      "100%|█████████████████████████████████████████████| 1/1 [00:20<00:00, 20.93s/it]\n"
     ]
    },
    {
     "name": "stdout",
     "output_type": "stream",
     "text": [
      "e(τ) = 0.17869706822877063 ± 0.0010427843940799678\n",
      "\n",
      "Experiment:  synth1T\n",
      "Omega\n"
     ]
    },
    {
     "name": "stderr",
     "output_type": "stream",
     "text": [
      "100%|█████████████████████████████████████████████| 1/1 [00:04<00:00,  4.13s/it]\n"
     ]
    },
    {
     "name": "stdout",
     "output_type": "stream",
     "text": [
      "e(τ) = 0.14090439871764213 ± 0.0004478217304412343\n",
      "\n",
      "Hamming\n"
     ]
    },
    {
     "name": "stderr",
     "output_type": "stream",
     "text": [
      "100%|█████████████████████████████████████████████| 1/1 [00:03<00:00,  3.41s/it]\n"
     ]
    },
    {
     "name": "stdout",
     "output_type": "stream",
     "text": [
      "e(τ) = 0.12950024421337603 ± 0.00017244029033372732\n",
      "\n",
      "Experiment:  battery_discrete\n",
      "Omega\n"
     ]
    },
    {
     "name": "stderr",
     "output_type": "stream",
     "text": [
      "100%|█████████████████████████████████████████████| 1/1 [00:03<00:00,  3.44s/it]\n"
     ]
    },
    {
     "name": "stdout",
     "output_type": "stream",
     "text": [
      "e(τ) = 0.06044807191610426 ± 0.0\n",
      "\n",
      "Hamming\n"
     ]
    },
    {
     "name": "stderr",
     "output_type": "stream",
     "text": [
      "100%|█████████████████████████████████████████████| 1/1 [00:03<00:00,  3.34s/it]\n"
     ]
    },
    {
     "name": "stdout",
     "output_type": "stream",
     "text": [
      "e(τ) = 0.05372263651470203 ± 0.0\n",
      "\n",
      "Experiment:  little_lucas\n",
      "Omega\n"
     ]
    },
    {
     "name": "stderr",
     "output_type": "stream",
     "text": [
      "100%|████████████████████████████████████████████| 1/1 [05:50<00:00, 350.96s/it]\n"
     ]
    },
    {
     "name": "stdout",
     "output_type": "stream",
     "text": [
      "e(τ) = 0.06095940563605817 ± 0.0003017924996866767\n",
      "\n",
      "Hamming\n"
     ]
    },
    {
     "name": "stderr",
     "output_type": "stream",
     "text": [
      "100%|████████████████████████████████████████████| 1/1 [05:09<00:00, 309.21s/it]\n"
     ]
    },
    {
     "name": "stdout",
     "output_type": "stream",
     "text": [
      "e(τ) = 0.060346193891111975 ± 0.00030435280111836384\n",
      "\n",
      "\n",
      "\n"
     ]
    }
   ],
   "source": [
    "errors  = ['jsd', 'wass']\n",
    "versions = ['avg_plan', 'avg_map']\n",
    "\n",
    "for version in versions:\n",
    "    if version == 'avg_plan':\n",
    "        equiv = 'Pairwise OT'\n",
    "    elif version == 'avg_map':\n",
    "        equiv = 'Map OT'\n",
    "    print(f\"Baseline: {equiv} (COTA {version} for κ = 1.0, λ = 0.0, μ = 0.0)\")\n",
    "    print('-------------------------------------------------------------------')\n",
    "    for looo in [True]:#, False]:\n",
    "        #print('LOOO: ', looo)\n",
    "        for error in errors:\n",
    "            print('e(τ): ', error)\n",
    "            for exp in relevant_experiments:\n",
    "                print('Experiment: ', exp)\n",
    "                pairs  = ut.load_pairs(exp)\n",
    "                n_grid = n_grid_experiments[exp]\n",
    "\n",
    "                for metric in ['fro']:\n",
    "                    for cost in ['Omega', 'Hamming']:\n",
    "                        print(f\"{cost}\")\n",
    "                        df_simplex       = run_cota(exp, pairs, metric, cost, 1, looo, error, version)\n",
    "                        min_val, k, l, m = get_solution(df_simplex, metric, cost, version)\n",
    "                        \n",
    "                        min_combo = create_comb(k, l, m)\n",
    "                        ms   = compute_ae_grid_looo(exp, pairs, min_combo, metric, cost, version)\n",
    "                        v, s = get_looo_results(ms, pairs, looo, error, version)\n",
    "                        \n",
    "                        print(f\"e(τ) = {min_val} ± {s*1.96}\")\n",
    "                        print( )\n",
    "            print( )\n",
    "    print( )"
   ]
  },
  {
   "cell_type": "code",
   "execution_count": null,
   "id": "6f90ac81",
   "metadata": {},
   "outputs": [],
   "source": []
  }
 ],
 "metadata": {
  "kernelspec": {
   "display_name": "Python 3 (ipykernel)",
   "language": "python",
   "name": "python3"
  },
  "language_info": {
   "codemirror_mode": {
    "name": "ipython",
    "version": 3
   },
   "file_extension": ".py",
   "mimetype": "text/x-python",
   "name": "python",
   "nbconvert_exporter": "python",
   "pygments_lexer": "ipython3",
   "version": "3.9.13"
  },
  "toc": {
   "base_numbering": 1,
   "nav_menu": {},
   "number_sections": true,
   "sideBar": true,
   "skip_h1_title": false,
   "title_cell": "Table of Contents",
   "title_sidebar": "Contents",
   "toc_cell": false,
   "toc_position": {},
   "toc_section_display": true,
   "toc_window_display": false
  }
 },
 "nbformat": 4,
 "nbformat_minor": 5
}
